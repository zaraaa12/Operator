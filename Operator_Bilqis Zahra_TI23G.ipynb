{
 "cells": [
  {
   "cell_type": "markdown",
   "id": "4c22d92a",
   "metadata": {},
   "source": [
    "<h1>Operator</h1>"
   ]
  },
  {
   "cell_type": "code",
   "execution_count": 1,
   "id": "8127a7cb",
   "metadata": {},
   "outputs": [
    {
     "name": "stdout",
     "output_type": "stream",
     "text": [
      "27\n",
      "13\n",
      "140\n",
      "2.857142857142857\n",
      "2\n",
      "1280000000\n",
      "6\n"
     ]
    }
   ],
   "source": [
    "num1 = 20\n",
    "num2 = 7\n",
    "\n",
    "hasil_jumlah = num1 + num2\n",
    "hasil_kurang = num1 - num2\n",
    "hasil_kali = num1 * num2\n",
    "hasil_bagi = num1 / num2\n",
    "hasil_bagi_bulat = num1 // num2\n",
    "hasil_pangkat = num1 ** num2\n",
    "hasil_modulus = num1 % num2\n",
    "\n",
    "print(hasil_jumlah)\n",
    "print(hasil_kurang)\n",
    "print(hasil_kali)\n",
    "print(hasil_bagi)\n",
    "print(hasil_bagi_bulat)\n",
    "print(hasil_pangkat)\n",
    "print(hasil_modulus)\n"
   ]
  },
  {
   "cell_type": "markdown",
   "id": "086c2447",
   "metadata": {},
   "source": [
    "<h2>Operator Penugasan</h2>"
   ]
  },
  {
   "cell_type": "code",
   "execution_count": 7,
   "id": "4830c529",
   "metadata": {},
   "outputs": [
    {
     "name": "stdout",
     "output_type": "stream",
     "text": [
      "10\n",
      "15\n",
      "13\n",
      "52\n",
      "26.0\n",
      "26.0\n",
      "26.0\n",
      "0.0\n"
     ]
    }
   ],
   "source": [
    "x = 10\n",
    "print(x) #10\n",
    "x += 5   #x = x + 5\n",
    "print(x) #15\n",
    "x -= 2   #x = x - 2\n",
    "print(x) #13\n",
    "x *= 4   #x = x * 4\n",
    "print(x) #52 \n",
    "x /= 2   #x = x / 2\n",
    "print(x) #26\n",
    "x //= 1   #x = x // 1\n",
    "print(x) #26 \n",
    "x **= 1   #x = x ** 1\n",
    "print(x) #26\n",
    "x %= 2   #x = x % 2\n",
    "print(x) #0"
   ]
  },
  {
   "cell_type": "markdown",
   "id": "0d8c7d1f",
   "metadata": {},
   "source": [
    "<h3>Operator Perbandingan</h3>"
   ]
  },
  {
   "cell_type": "code",
   "execution_count": 6,
   "id": "1bda809f",
   "metadata": {},
   "outputs": [
    {
     "name": "stdout",
     "output_type": "stream",
     "text": [
      "False\n",
      "True\n",
      "True\n",
      "False\n",
      "True\n",
      "False\n"
     ]
    }
   ],
   "source": [
    "y = 10 \n",
    "z = 5\n",
    "\n",
    "print(y == z) #False\n",
    "print(y != z) #True\n",
    "print(y > z) #True\n",
    "print(y < z) #False\n",
    "print(y >= 2 ) #True\n",
    "print(y <= 8) #False\n"
   ]
  },
  {
   "cell_type": "markdown",
   "id": "6e94dc71",
   "metadata": {},
   "source": [
    "<h1>Operator Logika</h1>"
   ]
  },
  {
   "cell_type": "code",
   "execution_count": 11,
   "id": "89ac3ab1",
   "metadata": {},
   "outputs": [
    {
     "name": "stdout",
     "output_type": "stream",
     "text": [
      "True\n",
      "True\n",
      "False\n"
     ]
    }
   ],
   "source": [
    "val1 = 10\n",
    "val2 = 5\n",
    "\n",
    "opr_and = val1 > val2 and val1 < 11 #True\n",
    "opr_or = val1 == 9 or val2 >= 5 #True\n",
    "opr_not = not(opr_and and opr_or) #False\n",
    "\n",
    "print(opr_and)\n",
    "print(opr_or)\n",
    "print(opr_not)"
   ]
  },
  {
   "cell_type": "markdown",
   "id": "b0a777cc",
   "metadata": {},
   "source": [
    "<h1>Operator Identitas</h1>"
   ]
  },
  {
   "cell_type": "code",
   "execution_count": 18,
   "id": "7a286026",
   "metadata": {},
   "outputs": [
    {
     "name": "stdout",
     "output_type": "stream",
     "text": [
      "True\n",
      "False\n",
      "False\n",
      "True\n"
     ]
    }
   ],
   "source": [
    "#Variabel Array\n",
    "fruits = [\"Grapes\",\"Aple\",\"Strawberry\"]\n",
    "fav_fruits = fruits\n",
    "your_fruits = [\"Grapes\",\"Aple\",\"Strawberry\"]\n",
    "\n",
    "#Variabel Single\n",
    "name = \"Alexa\"\n",
    "your_name = \"Alexa\"\n",
    "\n",
    "print(fav_fruits is fruits) #True\n",
    "print(fruits is your_fruits) #False\n",
    "print(fav_fruits is not fruits)\n",
    "print(name is your_name)"
   ]
  },
  {
   "cell_type": "code",
   "execution_count": 22,
   "id": "50eb5132",
   "metadata": {},
   "outputs": [
    {
     "name": "stdout",
     "output_type": "stream",
     "text": [
      "True\n",
      "True\n",
      "False\n",
      "True\n"
     ]
    }
   ],
   "source": [
    "city = [\"Bandung\",\"Sukabumi\",\"Malang\"]\n",
    "\n",
    "print(\"Sukabumi\" in city)\n",
    "print(\"Bandung\" in city)\n",
    "print(\"Malang\" not in city)\n",
    "print(\"Sukabumi\" in city and \"Yogyakarta\" not in city)"
   ]
  },
  {
   "cell_type": "markdown",
   "id": "64edf1c9",
   "metadata": {},
   "source": [
    "<h1>Operator Bitwise</h1>"
   ]
  },
  {
   "cell_type": "code",
   "execution_count": 28,
   "id": "fb289867",
   "metadata": {},
   "outputs": [
    {
     "name": "stdout",
     "output_type": "stream",
     "text": [
      "15\n",
      "255\n",
      "240\n",
      "256\n",
      "8\n"
     ]
    }
   ],
   "source": [
    "nilai_1 = 255\n",
    "nilai_2 = 15\n",
    "bit_and = nilai_1 & nilai_2\n",
    "bit_or = nilai_1 | nilai_2\n",
    "bit_xor = nilai_1 ^ nilai_2\n",
    "\n",
    "print(bit_and)\n",
    "print(bit_or)\n",
    "print(bit_xor)\n",
    "\n",
    "#shift left\n",
    "print(128 << 1)\n",
    "#shift right\n",
    "print(128 >> 4)\n"
   ]
  }
 ],
 "metadata": {
  "kernelspec": {
   "display_name": "Python 3 (ipykernel)",
   "language": "python",
   "name": "python3"
  },
  "language_info": {
   "codemirror_mode": {
    "name": "ipython",
    "version": 3
   },
   "file_extension": ".py",
   "mimetype": "text/x-python",
   "name": "python",
   "nbconvert_exporter": "python",
   "pygments_lexer": "ipython3",
   "version": "3.9.12"
  }
 },
 "nbformat": 4,
 "nbformat_minor": 5
}
